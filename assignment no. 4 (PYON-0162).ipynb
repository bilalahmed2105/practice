{
 "cells": [
  {
   "cell_type": "code",
   "execution_count": 5,
   "metadata": {},
   "outputs": [
    {
     "name": "stdout",
     "output_type": "stream",
     "text": [
      "before update\n",
      " {'first_name': 'Muhammad', 'last_name': 'Bilal', 'age': '18', 'city': 'karachi'}\n",
      "after update qualification\n",
      " {'first_name': 'Muhammad', 'last_name': 'Bilal', 'age': '18', 'city': 'karachi', 'qualification': 'B.E'}\n",
      "after deleting qualification\n",
      " {'first_name': 'Muhammad', 'last_name': 'Bilal', 'age': '18', 'city': 'karachi'}\n"
     ]
    }
   ],
   "source": [
    "# Q no.1\n",
    "\n",
    "data = {\"first_name\":\"Muhammad\",\"last_name\":\"Bilal\",\"age\":\"18\",\"city\":\"karachi\"}\n",
    "print (\"before update\\n\",data)\n",
    "# adding a qualification key \n",
    "data [\"qualification\"]= \"Matric\"\n",
    "#update  qualification to higher level\n",
    "data.update  ({\"qualification\":\"B.E\"})\n",
    "print (\"after update qualification\\n\",data)\n",
    "#delete the qualification key\n",
    "del data [\"qualification\"]\n",
    "print (\"after deleting qualification\\n\",data)\n"
   ]
  },
  {
   "cell_type": "code",
   "execution_count": 4,
   "metadata": {},
   "outputs": [
    {
     "name": "stdout",
     "output_type": "stream",
     "text": [
      "\n",
      "Karachi is in Pakistan.\n",
      "  It has a population of about 35000000.\n",
      "  The city is known as the city of lights.\n",
      "\n",
      "Mumbai is in India.\n",
      "  It has a population of about 150000000.\n",
      "  The city is known as the city of trade.\n",
      "\n",
      "London is in U.K.\n",
      "  It has a population of about 30000000.\n",
      "  The city is known as the centre of trade and commerce.\n"
     ]
    }
   ],
   "source": [
    "# Q no.2\n",
    "cities = {\n",
    "    'Karachi': {\n",
    "        'country': 'Pakistan',\n",
    "        'population': 35000000,\n",
    "        'known_as': 'the city of lights',\n",
    "        },\n",
    "    'Mumbai': {\n",
    "        'country': 'India',\n",
    "        'population':  150000000,\n",
    "        'known_as': 'the city of trade',\n",
    "        },\n",
    "    'London': {\n",
    "        'country': 'U.K',\n",
    "        'population':30000000,\n",
    "        'known_as': 'the centre of trade and commerce',\n",
    "        }\n",
    "    }\n",
    "for city, city_info in cities.items():\n",
    "    country = city_info['country']\n",
    "    population = city_info['population']\n",
    "    famous = city_info['known_as']\n",
    "    \n",
    "    print(\"\\n\" + city + \" is in \" + country + \".\")\n",
    "    print(\"  It has a population of about \" + str(population) + \".\")\n",
    "    print(\"  The city is known as \" + famous+ \".\")"
   ]
  },
  {
   "cell_type": "code",
   "execution_count": 6,
   "metadata": {},
   "outputs": [
    {
     "name": "stdout",
     "output_type": "stream",
     "text": [
      "Age: 18\n",
      "your ticket price is 15$ .\n"
     ]
    }
   ],
   "source": [
    " # Q NO. 3\n",
    "price = 1\n",
    "#this is for comes out from while loop after taking input\n",
    "while price == 1:\n",
    "   try:\n",
    "       age=int(input('Age: '))\n",
    "   except ValueError:\n",
    "        print (\"Not a number, try again.\")\n",
    "        continue\n",
    "\n",
    "   if age <= 3:\n",
    "       price = 0\n",
    "   elif age > 3 and age < 12:\n",
    "       price = 10\n",
    "   else:\n",
    "       price = 15\n",
    "\n",
    "print (\"your ticket price is \"+str(price)+\"$ .\")"
   ]
  },
  {
   "cell_type": "code",
   "execution_count": 7,
   "metadata": {},
   "outputs": [
    {
     "name": "stdout",
     "output_type": "stream",
     "text": [
      "Smarter Way Python is one of my favorite book.\n"
     ]
    }
   ],
   "source": [
    "# Q NO. 4\n",
    "\n",
    "def favourite_book(title):\n",
    "    print(title + \" is one of my favorite book.\")\n",
    "favourite_book('Smarter Way Python')"
   ]
  },
  {
   "cell_type": "code",
   "execution_count": 1,
   "metadata": {},
   "outputs": [
    {
     "name": "stdout",
     "output_type": "stream",
     "text": [
      "Guess a number between 1 & 30 : 10\n",
      "too low\n",
      "Guess a number between 1 & 30 : 20\n",
      "too low\n",
      "Guess a number between 1 & 30 : 22\n",
      "too low\n",
      "Guess a number between 1 & 30 : 24\n",
      "too low\n",
      "Guess a number between 1 & 30 : 25\n",
      "You got it!\n"
     ]
    }
   ],
   "source": [
    "# Q NO.5\n",
    "\n",
    "import random\n",
    "it=random.randint(0, 30)\n",
    "def main():\n",
    "    x=int(input('Guess a number between 1 & 30 : ' ))\n",
    "    if x == it:\n",
    "        print(\"You got it!\")\n",
    "    elif x > it:\n",
    "        print(\"too high\")\n",
    "        main()\n",
    "    else:\n",
    "        print(\"too low\")\n",
    "        main()\n",
    "main()"
   ]
  },
  {
   "cell_type": "code",
   "execution_count": null,
   "metadata": {},
   "outputs": [],
   "source": []
  }
 ],
 "metadata": {
  "kernelspec": {
   "display_name": "Python 3",
   "language": "python",
   "name": "python3"
  },
  "language_info": {
   "codemirror_mode": {
    "name": "ipython",
    "version": 3
   },
   "file_extension": ".py",
   "mimetype": "text/x-python",
   "name": "python",
   "nbconvert_exporter": "python",
   "pygments_lexer": "ipython3",
   "version": "3.7.4"
  }
 },
 "nbformat": 4,
 "nbformat_minor": 2
}
