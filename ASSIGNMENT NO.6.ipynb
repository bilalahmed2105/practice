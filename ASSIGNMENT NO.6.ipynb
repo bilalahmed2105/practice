{
 "cells": [
  {
   "cell_type": "markdown",
   "metadata": {},
   "source": [
    "# Assignment 06\n",
    "Name: Muhammad Bilal\n",
    "\n",
    "Email Address: bilalahmed2105@gmail.com\n",
    "Roll NO:PY0N-0162\n",
    "\n",
    "# Question No.1 : Define Object Oriented Programming Language?\n",
    "Ans:\n",
    "OOP is a methodology that provides multiple concepts such as (Inheritance,Polymorphism, Encapsulation etc).\n",
    "\n",
    "OBJECT is an entity that can be tengible intengible, ORIENTATION means Function of Mind eg: Way to think or analyze Something\n",
    "\n",
    "# Question No.2: List down the Benefits of OOP?\n",
    "Ans:\n",
    " 1.OOP provides a clear modular structure for programs.\n",
    " 2.it good for defining abstract data types\n",
    " 3.Implementation details are hidden from other modules\n",
    " 4.It is easy to maintain modify existing code.\n",
    " 5.It imlements real life scenario.\n",
    "\n",
    "# Qusetion No.3: Differentiate between function and method?\n",
    "Ans:\n",
    "Functions: Function can be defined outside as well it can be used as a single body in program.\n",
    "\n",
    "Methods: Functions in the class having diferent functionalities and features within the class are basically Methods\n",
    "\n",
    "# Queation No.4: Define the following terms:\n",
    "   1.Class.\n",
    "   2.Object.\n",
    "   3.Attribute.\n",
    "   4.Behavior.\n",
    "Ans: Class:: It is the templete, blue print or the capability of what an oblect can do. Object:: It is the Instance of class, if a class is defined there is no memory or stoage is allowcated. Attribute :: The physiacal appearance and look of code /program. Behavior:: Specific Functionalities and Operations that a mehtod can perform.\n"
   ]
  },
  {
   "cell_type": "code",
   "execution_count": 1,
   "metadata": {},
   "outputs": [
    {
     "name": "stdout",
     "output_type": "stream",
     "text": [
      "Company Name:  Toyota\n",
      "Car Color: black\n",
      "The model is 2016\n",
      "Car engine: 1100 CC\n",
      "The fixed price for this Car is:  1.0 million\n",
      "\n",
      "For Updated Car:\n",
      "\n",
      "Company Name:  Toyota\n",
      "Car Color: black\n",
      "The model is 2020\n",
      "Car engine: 1350 CC\n",
      "The fixed price for this Car is:  2.1 million\n"
     ]
    }
   ],
   "source": [
    "# Question No. 5\n",
    "class Car: \n",
    "    # init method or constructor  \n",
    "    def __init__(self,comp,color,model,engin): \n",
    "        self.comp = comp\n",
    "        self.color = color\n",
    "        self.model = model\n",
    "        self.engin = engin\n",
    "        #default Attribute..\n",
    "        self.price = \"1.0 million\"\n",
    "  \n",
    "    # Simple Methods  \n",
    "    def Showroom(self): \n",
    "        print('Company Name: ', self.comp)\n",
    "        print(\"Car Color:\",self.color)\n",
    "        print(\"The model is\",self.model)\n",
    "        print(\"Car engine:\",self.engin,\"CC\")\n",
    "        print(\"The fixed price for this Car is: \",self.price)\n",
    "    def upmodel(self,newmodel):\n",
    "        self.model = newmodel\n",
    "    def upprice(self,newprice):\n",
    "        self.price = newprice\n",
    "    def upengin(self,newengin):\n",
    "        self.engin = newengin\n",
    "#Object of class CAR        \n",
    "C = Car('Toyota','black','2016',1100) \n",
    "#calling Obj\n",
    "C.Showroom()\n",
    "print(\"\\nFor Updated Car:\\n\")\n",
    "#Updating Values through Obj \n",
    "C.upmodel('2020')\n",
    "C.upprice('2.1 million')\n",
    "C.upengin(1350)\n",
    "C.Showroom()"
   ]
  },
  {
   "cell_type": "code",
   "execution_count": null,
   "metadata": {},
   "outputs": [],
   "source": []
  }
 ],
 "metadata": {
  "kernelspec": {
   "display_name": "Python 3",
   "language": "python",
   "name": "python3"
  },
  "language_info": {
   "codemirror_mode": {
    "name": "ipython",
    "version": 3
   },
   "file_extension": ".py",
   "mimetype": "text/x-python",
   "name": "python",
   "nbconvert_exporter": "python",
   "pygments_lexer": "ipython3",
   "version": "3.7.4"
  }
 },
 "nbformat": 4,
 "nbformat_minor": 2
}
