{
 "cells": [
  {
   "cell_type": "code",
   "execution_count": 15,
   "metadata": {},
   "outputs": [
    {
     "name": "stdout",
     "output_type": "stream",
     "text": [
      "***MARKSHEET***\n",
      "Enter your marks 78\n",
      "Enter your marks 87\n",
      "Enter your marks 56\n",
      "Enter your marks 65\n",
      "Enter your marks 77\n",
      "Your Total Marks are :363\n",
      "Your Percentage is  72.6\n",
      "Congratulations! You have secured Grade A\n"
     ]
    }
   ],
   "source": [
    "print (\"***MARKSHEET***\")\n",
    "English= int(input(\"Enter your marks \"))\n",
    "Urdu= int(input(\"Enter your marks \"))\n",
    "Chemistry= int(input(\"Enter your marks \"))\n",
    "Physics= int(input(\"Enter your marks \"))\n",
    "Maths= int(input(\"Enter your marks \"))\n",
    "Total_marks= English+Urdu+Chemistry+Physics+Maths\n",
    "Percentage= (Total_marks/500)*100\n",
    "print(\"Your Total Marks are \" +\":\"+ str(Total_marks))\n",
    "print(\"Your Percentage is\" + \"  \" + str(Percentage))\n",
    "if Percentage >= 80 and Percentage <=100:\n",
    " print(\"Congratulations! You have secured Grade A+\")\n",
    "elif Percentage <80 and Percentage >=70:\n",
    " print(\"Congratulations! You have secured Grade A\")\n",
    "elif Percentage <70 and Percentage >=60:\n",
    " print(\"Congratulations You have secured Grade B\")\n",
    "elif Percentage <60 and Percentage >=50:\n",
    " print(\"Congratulations You have secured Grade C\")\n",
    "elif Percentage <50 and Percentage >=40:\n",
    " print(\"Congratulations You have secured Grade D\")\n",
    "elif Percentage <40 and Percentage >=0:\n",
    " print(\"You have failed in examinations\")\n",
    "else :\n",
    " print(\"enter correct input\")\n",
    "\n",
    "    "
   ]
  },
  {
   "cell_type": "code",
   "execution_count": 22,
   "metadata": {},
   "outputs": [
    {
     "name": "stdout",
     "output_type": "stream",
     "text": [
      "Enter no. : 78\n",
      "Given Num is even\n"
     ]
    }
   ],
   "source": [
    "num_1 = int (input (\"Enter no. : \"))\n",
    "num_2 = num_1 % 2\n",
    "if num_2 > 0 :\n",
    "    print (\"Given Num is odd\")\n",
    "else :\n",
    "    print (\"Given Num is even\")\n",
    "\n"
   ]
  },
  {
   "cell_type": "markdown",
   "metadata": {},
   "source": []
  },
  {
   "cell_type": "code",
   "execution_count": 24,
   "metadata": {},
   "outputs": [
    {
     "name": "stdout",
     "output_type": "stream",
     "text": [
      "7\n"
     ]
    }
   ],
   "source": [
    "lst = [\"I\",\"AM\",\"PIAIC\",\"STUDENT\",\"ROLLNO.\",\"IS\",\"PYO2222\"]\n",
    "length = len(lst)\n",
    "print (length)"
   ]
  },
  {
   "cell_type": "code",
   "execution_count": 31,
   "metadata": {},
   "outputs": [
    {
     "name": "stdout",
     "output_type": "stream",
     "text": [
      "THE TOTAL OF ALL THE ELMENTS IN LIST IS  390\n"
     ]
    }
   ],
   "source": [
    "total = 0\n",
    "lst = [87,24,53,53,45,86,42]\n",
    "for ele in range (0,len (lst)):\n",
    "    total = total + lst[ele]\n",
    "print (\"THE TOTAL OF ALL THE ELMENTS IN LIST IS \" , total)"
   ]
  },
  {
   "cell_type": "code",
   "execution_count": null,
   "metadata": {},
   "outputs": [],
   "source": []
  },
  {
   "cell_type": "code",
   "execution_count": 40,
   "metadata": {},
   "outputs": [
    {
     "name": "stdout",
     "output_type": "stream",
     "text": [
      "Maximum is 8765\n"
     ]
    }
   ],
   "source": [
    "largest = None\n",
    "for num in[1, 76,8765,987,876, 424, 4242, 24, 2] :\n",
    "    if largest is None: \n",
    "        largest = num\n",
    "    elif num > largest:\n",
    "        largest = num\n",
    "print (\"Maximum is\", largest)"
   ]
  },
  {
   "cell_type": "code",
   "execution_count": 49,
   "metadata": {},
   "outputs": [
    {
     "name": "stdout",
     "output_type": "stream",
     "text": [
      "1\n",
      "1\n",
      "2\n",
      "3\n"
     ]
    }
   ],
   "source": [
    "a = [1, 1, 2, 3, 5, 8, 13, 21, 34, 55, 89]\n",
    "for num in a :\n",
    "    if num < 5:\n",
    "        print (num)\n",
    "    "
   ]
  },
  {
   "cell_type": "code",
   "execution_count": null,
   "metadata": {},
   "outputs": [],
   "source": []
  }
 ],
 "metadata": {
  "kernelspec": {
   "display_name": "Python 3",
   "language": "python",
   "name": "python3"
  },
  "language_info": {
   "codemirror_mode": {
    "name": "ipython",
    "version": 3
   },
   "file_extension": ".py",
   "mimetype": "text/x-python",
   "name": "python",
   "nbconvert_exporter": "python",
   "pygments_lexer": "ipython3",
   "version": "3.7.4"
  }
 },
 "nbformat": 4,
 "nbformat_minor": 2
}
