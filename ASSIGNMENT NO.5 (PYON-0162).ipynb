{
 "cells": [
  {
   "cell_type": "code",
   "execution_count": 3,
   "metadata": {},
   "outputs": [
    {
     "name": "stdout",
     "output_type": "stream",
     "text": [
      "Enter Number to calculate it's factorial: 5\n",
      "120\n"
     ]
    }
   ],
   "source": [
    "# NAME : MUHAMMAD BILAL\n",
    "# ROLL NO. (PYON-0162)\n",
    "\n",
    "# Question:1\n",
    "# Write a Python function to calculate the factorial of a number (a non-negative\n",
    "# integer). The function accepts the number as an argument.\n",
    "\n",
    "def isPositiveInteger(number):\n",
    "    if int(number) > 0 :\n",
    "        return True\n",
    "    else:\n",
    "        return False\n",
    "def calcFactorial(number):\n",
    "    factorial = 1\n",
    "    if isPositiveInteger(number) == True:\n",
    "        number = int(number)\n",
    "        for i in range(1, number + 1):\n",
    "            factorial = factorial * i\n",
    "        print(factorial)\n",
    "    else:\n",
    "        print(\"Invalid input\")\n",
    "\n",
    "factCalc = input(\"Enter Number to calculate it's factorial: \")\n",
    "calcFactorial(factCalc)"
   ]
  },
  {
   "cell_type": "code",
   "execution_count": 5,
   "metadata": {},
   "outputs": [
    {
     "name": "stdout",
     "output_type": "stream",
     "text": [
      "ORIGINAL STRING :  MUHAMMAD bilal\n",
      "No. Of Upper Case Characters :  8\n",
      "No. Of Lower Case Characters :  5\n"
     ]
    }
   ],
   "source": [
    "# Question:2\n",
    "def string_test(st):\n",
    "    d={\"UPPER_CASE\":0, \"LOWER_CASE\":0}\n",
    "    for c in st:\n",
    "        if c.isupper():\n",
    "           d[\"UPPER_CASE\"]+=1\n",
    "        elif c.islower():\n",
    "           d[\"LOWER_CASE\"]+=1\n",
    "        else:\n",
    "           pass\n",
    "    print (\"ORIGINAL STRING : \", st)\n",
    "    print (\"No. Of Upper Case Characters : \", d[\"UPPER_CASE\"])\n",
    "    print (\"No. Of Lower Case Characters : \", d[\"LOWER_CASE\"])\n",
    "\n",
    "string_test(\"MUHAMMAD bilal\")"
   ]
  },
  {
   "cell_type": "code",
   "execution_count": 8,
   "metadata": {},
   "outputs": [
    {
     "name": "stdout",
     "output_type": "stream",
     "text": [
      "these are the even no. list: [2, 6, 8, 34, 24, 12, 22, 44]\n"
     ]
    }
   ],
   "source": [
    "# Question:3\n",
    "\n",
    "#cehck even no\n",
    "num_list = [2,3,5,6,7,17,8,34,13,17,29,24,12,22,33,44]\n",
    "even_list = []\n",
    "def even(num):\n",
    "    for i in num:\n",
    "        if i % 2 == 0:\n",
    "            even_list.append(i)\n",
    "    print(\"these are the even no. list:\", even_list)\n",
    "even(num_list)"
   ]
  },
  {
   "cell_type": "code",
   "execution_count": 12,
   "metadata": {},
   "outputs": [
    {
     "name": "stdout",
     "output_type": "stream",
     "text": [
      "True\n"
     ]
    }
   ],
   "source": [
    "# Question:4\n",
    "def isPalindrome(string):\n",
    "    left_pos = 0\n",
    "    right_pos = len(string) - 1\n",
    "    while right_pos >= left_pos:\n",
    "        if not string[left_pos] == string[right_pos]:\n",
    "            return False\n",
    "        left_pos += 1\n",
    "        right_pos -= 1\n",
    "    return True\n",
    "print(isPalindrome('bob'))"
   ]
  },
  {
   "cell_type": "code",
   "execution_count": 17,
   "metadata": {},
   "outputs": [
    {
     "name": "stdout",
     "output_type": "stream",
     "text": [
      "The number is Prime\n",
      "The number is not Prime\n",
      "Because\n",
      "2 times 49 is 98\n"
     ]
    }
   ],
   "source": [
    "# Question:5\n",
    "#The given no is prime or not\n",
    "def prime(num):\n",
    "    if num>1:\n",
    "        for i in range(2,num):\n",
    "            if (num % i) == 0:\n",
    "                print('The number is not Prime\\nBecause')\n",
    "                print(i,\"times\",num//i,\"is\",num) \n",
    "                break\n",
    "        else:\n",
    "            print(\"The number is Prime\")\n",
    "    \n",
    "prime(3)\n",
    "prime(98)"
   ]
  },
  {
   "cell_type": "code",
   "execution_count": 18,
   "metadata": {},
   "outputs": [
    {
     "name": "stdout",
     "output_type": "stream",
     "text": [
      "Enter Shopping item [-1 to abort]: mango\n",
      "Enter Shopping item [-1 to abort]: bread\n",
      "Enter Shopping item [-1 to abort]: corn\n",
      "Enter Shopping item [-1 to abort]: milk\n",
      "Enter Shopping item [-1 to abort]: fish\n",
      "Enter Shopping item [-1 to abort]: oil\n",
      "Enter Shopping item [-1 to abort]: -1\n",
      "You purchased: mango\n",
      "You purchased: bread\n",
      "You purchased: corn\n",
      "You purchased: milk\n",
      "You purchased: fish\n",
      "You purchased: oil\n"
     ]
    }
   ],
   "source": [
    " # Question:6\n",
    "def shoppingList(*items):\n",
    "     shoppingItems = []\n",
    "     while True:\n",
    "         item = input(\"Enter Shopping item [-1 to abort]: \")\n",
    "         if item != '-1':\n",
    "             shoppingItems.append(item)\n",
    "         else:\n",
    "             break\n",
    "     for item in range(len(shoppingItems)):\n",
    "         print(\"You purchased: {}\".format(shoppingItems[item]))\n",
    "shoppingList()\n"
   ]
  },
  {
   "cell_type": "code",
   "execution_count": null,
   "metadata": {},
   "outputs": [],
   "source": []
  }
 ],
 "metadata": {
  "kernelspec": {
   "display_name": "Python 3",
   "language": "python",
   "name": "python3"
  },
  "language_info": {
   "codemirror_mode": {
    "name": "ipython",
    "version": 3
   },
   "file_extension": ".py",
   "mimetype": "text/x-python",
   "name": "python",
   "nbconvert_exporter": "python",
   "pygments_lexer": "ipython3",
   "version": "3.7.4"
  }
 },
 "nbformat": 4,
 "nbformat_minor": 2
}
